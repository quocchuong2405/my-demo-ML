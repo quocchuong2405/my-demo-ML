{
 "cells": [
  {
   "cell_type": "code",
   "execution_count": 15,
   "metadata": {},
   "outputs": [],
   "source": [
    "import numpy as np\n",
    "import pandas as pd\n",
    "import matplotlib.pyplot as plt\n",
    "import seaborn as sns\n",
    "from sklearn.model_selection import train_test_split\n",
    "from sklearn.metrics import accuracy_score\n",
    "from sklearn import metrics\n",
    "from sklearn.neighbors import KNeighborsClassifier, KNeighborsRegressor"
   ]
  },
  {
   "cell_type": "code",
   "execution_count": 2,
   "metadata": {},
   "outputs": [
    {
     "name": "stdout",
     "output_type": "stream",
     "text": [
      "<class 'pandas.core.frame.DataFrame'>\n",
      "RangeIndex: 150 entries, 0 to 149\n",
      "Data columns (total 5 columns):\n",
      " #   Column       Non-Null Count  Dtype  \n",
      "---  ------       --------------  -----  \n",
      " 0   sepallength  150 non-null    float64\n",
      " 1   sepalwidth   150 non-null    float64\n",
      " 2   petallength  150 non-null    float64\n",
      " 3   petalwidth   150 non-null    float64\n",
      " 4   iris         150 non-null    object \n",
      "dtypes: float64(4), object(1)\n",
      "memory usage: 6.0+ KB\n"
     ]
    }
   ],
   "source": [
    "iris = pd.read_excel(\"Iris.xls\")\n",
    "iris.info()"
   ]
  },
  {
   "cell_type": "code",
   "execution_count": 3,
   "metadata": {},
   "outputs": [],
   "source": [
    "# Cho pentalwidth dự đoán pentallength\n",
    "petalwidth = iris[['petalwidth']] # x hay input\n",
    "pentallength = iris['petallength'] # y hay output"
   ]
  },
  {
   "cell_type": "code",
   "execution_count": 4,
   "metadata": {},
   "outputs": [
    {
     "data": {
      "text/plain": [
       "0    1.4\n",
       "1    1.4\n",
       "2    1.3\n",
       "3    1.5\n",
       "4    1.4\n",
       "Name: petallength, dtype: float64"
      ]
     },
     "execution_count": 4,
     "metadata": {},
     "output_type": "execute_result"
    }
   ],
   "source": [
    "pentallength[:5]"
   ]
  },
  {
   "cell_type": "code",
   "execution_count": 5,
   "metadata": {},
   "outputs": [
    {
     "data": {
      "image/png": "[encoded data removed]",
      "text/plain": [
       "<Figure size 432x288 with 1 Axes>"
      ]
     },
     "metadata": {
      "needs_background": "light"
     },
     "output_type": "display_data"
    }
   ],
   "source": [
    "plt.scatter(petalwidth, pentallength)\n",
    "plt.show()"
   ]
  },
  {
   "cell_type": "code",
   "execution_count": 6,
   "metadata": {},
   "outputs": [],
   "source": [
    "X_train, X_test, y_train, y_test = train_test_split(petalwidth,pentallength,test_size=0.20,random_state = 42)"
   ]
  },
  {
   "cell_type": "code",
   "execution_count": 9,
   "metadata": {},
   "outputs": [
    {
     "name": "stdout",
     "output_type": "stream",
     "text": [
      "The R^2 score is  92.61607309341787  for K-Value: 2\n",
      "The R^2 score is  94.03093022335983  for K-Value: 3\n",
      "The R^2 score is  94.27262556574509  for K-Value: 4\n",
      "The R^2 score is  94.6437034902446  for K-Value: 5\n",
      "The R^2 score is  94.99968922866555  for K-Value: 6\n",
      "The R^2 score is  94.84781487391967  for K-Value: 7\n",
      "The R^2 score is  94.8173935890699  for K-Value: 8\n",
      "The R^2 score is  94.85852370431897  for K-Value: 9\n",
      "\n",
      "The optimal number of neighbors is: 6 with R^2 score is: 94.99968922866555\n"
     ]
    }
   ],
   "source": [
    "# neu nhu co mot so k co score = nhau => tim mse cua cac k bang nhau =>\n",
    "# mse << => chon k\n",
    "list_k = []\n",
    "list_r_score = []\n",
    "for K_value in range(2,int(y_train.shape[0]**0.5)):\n",
    "    list_k.append(K_value)\n",
    "    neigh = KNeighborsRegressor(n_neighbors = K_value)\n",
    "    neigh.fit(X_train, y_train)\n",
    "    score = neigh.score(X_test,y_test)*100\n",
    "    list_r_score.append(score)\n",
    "    print(\"The R^2 score is \", score, \" for K-Value:\",K_value)\n",
    "vi_tri = list_r_score.index(max(list_r_score))\n",
    "k = list_k[vi_tri]\n",
    "print(\"\\nThe optimal number of neighbors is:\", k, \"with R^2 score is:\",\n",
    "list_r_score[vi_tri])"
   ]
  },
  {
   "cell_type": "code",
   "execution_count": 10,
   "metadata": {},
   "outputs": [
    {
     "data": {
      "image/png": "[encoded data removed]",
      "text/plain": [
       "<Figure size 432x288 with 1 Axes>"
      ]
     },
     "metadata": {
      "needs_background": "light"
     },
     "output_type": "display_data"
    }
   ],
   "source": [
    "plt.plot(list_k, list_r_score)\n",
    "plt.xlabel('Number of Neighbors K')\n",
    "plt.ylabel('R^2 score')\n",
    "plt.show()"
   ]
  },
  {
   "cell_type": "code",
   "execution_count": 11,
   "metadata": {},
   "outputs": [
    {
     "data": {
      "text/plain": [
       "KNeighborsRegressor(n_neighbors=6)"
      ]
     },
     "execution_count": 11,
     "metadata": {},
     "output_type": "execute_result"
    }
   ],
   "source": [
    "# seleck k => model\n",
    "knn = KNeighborsRegressor(n_neighbors=6)\n",
    "knn.fit(X_train, y_train)"
   ]
  },
  {
   "cell_type": "code",
   "execution_count": 12,
   "metadata": {},
   "outputs": [
    {
     "data": {
      "text/plain": [
       "array([3.9       , 1.36666667, 5.71666667, 4.63333333, 4.6       ,\n",
       "       1.6       , 4.16666667, 5.71666667, 4.63333333, 3.9       ,\n",
       "       5.53333333, 1.4       , 1.38333333, 1.4       , 1.36666667,\n",
       "       4.85      , 5.85      , 3.91666667, 4.16666667, 5.85      ,\n",
       "       1.38333333, 5.36666667, 1.6       , 5.66666667, 5.53333333,\n",
       "       5.71666667, 5.36666667, 5.71666667, 1.36666667, 1.38333333])"
      ]
     },
     "execution_count": 12,
     "metadata": {},
     "output_type": "execute_result"
    }
   ],
   "source": [
    "y_pred = knn.predict(X_test)\n",
    "y_pred"
   ]
  },
  {
   "cell_type": "code",
   "execution_count": 13,
   "metadata": {},
   "outputs": [
    {
     "name": "stdout",
     "output_type": "stream",
     "text": [
      "The Training R^2 score is:  0.9581011061128362\n",
      "The Testing R^2 score is:  0.9499968922866554\n"
     ]
    }
   ],
   "source": [
    "print(\"The Training R^2 score is: \", knn.score(X_train,y_train))\n",
    "print(\"The Testing R^2 score is: \", knn.score(X_test,y_test))"
   ]
  },
  {
   "cell_type": "code",
   "execution_count": 16,
   "metadata": {},
   "outputs": [
    {
     "name": "stdout",
     "output_type": "stream",
     "text": [
      "Mean Squared Error: 0.16387962962962974\n"
     ]
    }
   ],
   "source": [
    "print('Mean Squared Error:', metrics.mean_squared_error(y_test, y_pred))"
   ]
  },
  {
   "cell_type": "code",
   "execution_count": 17,
   "metadata": {},
   "outputs": [
    {
     "data": {
      "text/html": [
       "<div>\n",
       "<style scoped>\n",
       "    .dataframe tbody tr th:only-of-type {\n",
       "        vertical-align: middle;\n",
       "    }\n",
       "\n",
       "    .dataframe tbody tr th {\n",
       "        vertical-align: top;\n",
       "    }\n",
       "\n",
       "    .dataframe thead th {\n",
       "        text-align: right;\n",
       "    }\n",
       "</style>\n",
       "<table border=\"1\" class=\"dataframe\">\n",
       "  <thead>\n",
       "    <tr style=\"text-align: right;\">\n",
       "      <th></th>\n",
       "      <th>Actual</th>\n",
       "      <th>Prediction</th>\n",
       "    </tr>\n",
       "  </thead>\n",
       "  <tbody>\n",
       "    <tr>\n",
       "      <th>0</th>\n",
       "      <td>4.7</td>\n",
       "      <td>3.900000</td>\n",
       "    </tr>\n",
       "    <tr>\n",
       "      <th>1</th>\n",
       "      <td>1.7</td>\n",
       "      <td>1.366667</td>\n",
       "    </tr>\n",
       "    <tr>\n",
       "      <th>2</th>\n",
       "      <td>6.9</td>\n",
       "      <td>5.716667</td>\n",
       "    </tr>\n",
       "    <tr>\n",
       "      <th>3</th>\n",
       "      <td>4.5</td>\n",
       "      <td>4.633333</td>\n",
       "    </tr>\n",
       "    <tr>\n",
       "      <th>4</th>\n",
       "      <td>4.8</td>\n",
       "      <td>4.600000</td>\n",
       "    </tr>\n",
       "  </tbody>\n",
       "</table>\n",
       "</div>"
      ],
      "text/plain": [
       "   Actual  Prediction\n",
       "0     4.7    3.900000\n",
       "1     1.7    1.366667\n",
       "2     6.9    5.716667\n",
       "3     4.5    4.633333\n",
       "4     4.8    4.600000"
      ]
     },
     "execution_count": 17,
     "metadata": {},
     "output_type": "execute_result"
    }
   ],
   "source": [
    "df = pd.DataFrame({'Actual': pd.DataFrame(y_test.values)[0].values,\n",
    "'Prediction': pd.DataFrame(y_pred)[0].values})\n",
    "df.head()"
   ]
  },
  {
   "cell_type": "code",
   "execution_count": 18,
   "metadata": {},
   "outputs": [
    {
     "data": {
      "text/plain": [
       "array([1.38333333])"
      ]
     },
     "execution_count": 18,
     "metadata": {},
     "output_type": "execute_result"
    }
   ],
   "source": [
    "x_now = [[0.25]]\n",
    "y_now = knn.predict(x_now)\n",
    "y_now"
   ]
  },
  {
   "cell_type": "code",
   "execution_count": null,
   "metadata": {},
   "outputs": [],
   "source": []
  }
 ],
 "metadata": {
  "interpreter": {
   "hash": "341721dacaf7cfb9fee4e04b297b3b32e40ca54b628f5e3596801dd499b24476"
  },
  "kernelspec": {
   "display_name": "Python 3.8.4 64-bit",
   "name": "python3"
  },
  "language_info": {
   "codemirror_mode": {
    "name": "ipython",
    "version": 3
   },
   "file_extension": ".py",
   "mimetype": "text/x-python",
   "name": "python",
   "nbconvert_exporter": "python",
   "pygments_lexer": "ipython3",
   "version": "3.8.4"
  },
  "orig_nbformat": 4
 },
 "nbformat": 4,
 "nbformat_minor": 2
}
